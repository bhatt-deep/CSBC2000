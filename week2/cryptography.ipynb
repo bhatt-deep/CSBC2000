{
 "cells": [
  {
   "cell_type": "markdown",
   "metadata": {},
   "source": [
    "# Cryptography"
   ]
  },
  {
   "cell_type": "markdown",
   "metadata": {},
   "source": [
    "## One-Time Pad"
   ]
  },
  {
   "cell_type": "code",
   "execution_count": null,
   "metadata": {},
   "outputs": [],
   "source": [
    "import random, string\n",
    "\n",
    "N = 30\n",
    "pad = ''.join(random.choice(string.ascii_lowercase) for x in range(N))\n",
    "\n",
    "alice_msg = 'HELLO'\n",
    "encrypted_msg = ''.join([chr(ord(pad[i]) ^ ord(alice_msg[i])) for i in range(len(alice_msg))])\n",
    "print(\"Encrypted msg: \", encrypted_msg)\n",
    "\n",
    "bob_msg = ''.join([chr(ord(pad[i]) ^ ord(encrypted_msg[i])) for i in range(len(encrypted_msg))])\n",
    "print(\"Decrypted msg: \", bob_msg)\n",
    "\n"
   ]
  },
  {
   "cell_type": "markdown",
   "metadata": {},
   "source": [
    "## RSA"
   ]
  },
  {
   "cell_type": "code",
   "execution_count": null,
   "metadata": {},
   "outputs": [],
   "source": [
    "from Crypto.PublicKey import RSA # pycryptodome\n",
    "from Crypto.Cipher import PKCS1_OAEP\n",
    "import binascii\n",
    "\n",
    "keyPair = RSA.generate(3072)\n",
    "\n",
    "pubKey = keyPair.publickey()\n",
    "print(f\"Public key:  (n={hex(pubKey.n)}, e={hex(pubKey.e)})\")\n",
    "pubKeyPEM = pubKey.exportKey()\n",
    "print(pubKeyPEM.decode('ascii'))\n",
    "\n",
    "print(f\"Private key: (n={hex(pubKey.n)}, d={hex(keyPair.d)})\")\n",
    "privKeyPEM = keyPair.exportKey()\n",
    "print(privKeyPEM.decode('ascii'))"
   ]
  },
  {
   "cell_type": "markdown",
   "metadata": {},
   "source": [
    "## ECDSA"
   ]
  },
  {
   "cell_type": "code",
   "execution_count": null,
   "metadata": {},
   "outputs": [],
   "source": [
    "import ecdsa\n",
    "\n",
    "# SECP256k1 is the Bitcoin elliptic curve\n",
    "sk = ecdsa.SigningKey.generate(curve=ecdsa.SECP256k1) \n",
    "vk = sk.get_verifying_key()\n",
    "sig = sk.sign(b\"message\")\n",
    "vk.verify(sig, b\"message\") # True"
   ]
  },
  {
   "cell_type": "markdown",
   "metadata": {},
   "source": [
    "## X.509 Certificate"
   ]
  },
  {
   "cell_type": "code",
   "execution_count": null,
   "metadata": {},
   "outputs": [],
   "source": [
    "from OpenSSL import crypto, SSL\n",
    "from socket import gethostname\n",
    "from pprint import pprint\n",
    "from time import gmtime, mktime\n",
    "\n",
    "CERT_FILE = \"selfsigned.crt\"\n",
    "KEY_FILE = \"private.key\"\n",
    "\n",
    "def create_self_signed_cert():\n",
    "\n",
    "    # create a key pair\n",
    "    k = crypto.PKey()\n",
    "    k.generate_key(crypto.TYPE_RSA, 1024)\n",
    "\n",
    "    # create a self-signed cert\n",
    "    cert = crypto.X509()\n",
    "    cert.get_subject().C = \"UK\"\n",
    "    cert.get_subject().ST = \"London\"\n",
    "    cert.get_subject().L = \"London\"\n",
    "    cert.get_subject().O = \"Dummy Company Ltd\"\n",
    "    cert.get_subject().OU = \"Dummy Company Ltd\"\n",
    "    cert.get_subject().CN = gethostname()\n",
    "    cert.set_serial_number(1000)\n",
    "    cert.gmtime_adj_notBefore(0)\n",
    "    cert.gmtime_adj_notAfter(10*365*24*60*60)\n",
    "    cert.set_issuer(cert.get_subject())\n",
    "    cert.set_pubkey(k)\n",
    "    cert.sign(k, 'sha1')\n",
    "\n",
    "    open(CERT_FILE, \"wb\").write(\n",
    "        crypto.dump_certificate(crypto.FILETYPE_PEM, cert))\n",
    "    open(KEY_FILE, \"wb\").write(\n",
    "        crypto.dump_privatekey(crypto.FILETYPE_PEM, k))\n",
    "\n",
    "create_self_signed_cert()"
   ]
  },
  {
   "cell_type": "markdown",
   "metadata": {},
   "source": [
    "## Homomorphic encryption"
   ]
  },
  {
   "cell_type": "code",
   "execution_count": null,
   "metadata": {},
   "outputs": [],
   "source": [
    "from phe import paillier\n",
    "import string \n",
    "import random \n",
    "import csv\n",
    "import sys\n",
    "import numpy as np\n",
    "\n",
    "customer_number = 5\n",
    "\n",
    "############### --- MAIN --- #######################\n",
    "def main():\n",
    "\n",
    "    # Initialize users\n",
    "    aggregator = Aggregator()\n",
    "    customers = []\n",
    "    for i in range(customer_number):\n",
    "        customers.append(Customer(aggregator, random.randint(0,300)))\n",
    "    \n",
    "    for i in range(len(customers)):\n",
    "        enc_shares = customers[i].encrypt_shares()\n",
    "        customers[i].send_enc_shares(enc_shares)\n",
    "\n",
    "    aggragation_result = aggregator.aggregate_data()\n",
    "    \n",
    "    total_Paillier = 0\n",
    "    for uuid in aggragation_result:\n",
    "        for customer in customers:\n",
    "            if uuid is customer.name:\n",
    "                aggr_ptxt = customer.private_key.decrypt(aggragation_result[uuid])\n",
    "                aggr_ptxt += customer.retained_share\n",
    "                total_Paillier += aggr_ptxt\n",
    "                print(\"Sum of shares for user {}: {}\".format(uuid, aggr_ptxt))\n",
    "\n",
    "    print(\"Generated sum: \", Customer.smartmeter_reading_sum)\n",
    "    print(\"Aggregated sum: \", total_Paillier)\n",
    "\n",
    "\n",
    "\n",
    "############### --- END MAIN --- #######################\n",
    "\n",
    "\n",
    "\n",
    "\n",
    "# HELPER FUNC\n",
    "# Merge dictionaries and keep values of common keys in list\n",
    "def mergeDict(input):\n",
    "    result_dict = {}\n",
    "    for dictionary in input:\n",
    "        for key, value in dictionary.items():\n",
    "            if key not in result_dict:\n",
    "                result_dict[key] = list()\n",
    "            result_dict[key].append(value)\n",
    "    return result_dict\n",
    "\n",
    "\n",
    "def get_key(my_dict, val): \n",
    "    for key, value in my_dict.items(): \n",
    "         if val == value: \n",
    "             return key \n",
    "    return \"key doesn't exist\"\n",
    "\n",
    "\n",
    "\n",
    "# Party receiving the data\n",
    "class Aggregator():\n",
    "    def __init__(self):\n",
    "        self.key_gen()\n",
    "        self.name = ''.join(random.choices(string.ascii_uppercase + string.digits, k = 8)) \n",
    "        self.list_of_pubkeys = {}\n",
    "        self.aggregation_input = []\n",
    "\n",
    "    def key_gen(self):\n",
    "        self.public_key, self.private_key = paillier.generate_paillier_keypair()\n",
    "\n",
    "\n",
    "    # Obtain data from Customers and add it all together\n",
    "    # Sum all records encrypted with one key\n",
    "    # Input comes as a list of dictionaries. Merge dictionaries together and sum up all the values encrypted with corresponding public key\n",
    "    def aggregate_data(self):\n",
    "               \n",
    "        # Dictionary merging\n",
    "        temp_dict = mergeDict(self.aggregation_input)\n",
    "\n",
    "        # For each ctxt per key, sum them up together\n",
    "        sum_ctxt = {}\n",
    "        for x in temp_dict:\n",
    "            sum_ctxt[x] = sum(temp_dict[x])\n",
    "\n",
    "        return sum_ctxt\n",
    "\n",
    "\n",
    "    def set_public_key(self, UUID, pubkey):\n",
    "        self.list_of_pubkeys[UUID] = pubkey\n",
    "\n",
    "\n",
    "    def get_public_keys(self):\n",
    "        return dict(self.list_of_pubkeys)\n",
    "\n",
    "\n",
    "\n",
    "# Party generating the smartmeter data\n",
    "class Customer():\n",
    "\n",
    "    smartmeter_reading_sum = 0\n",
    "\n",
    "    def __init__(self):\n",
    "        self.key_gen()\n",
    "        self.name = ''.join(random.choices(string.ascii_uppercase + string.digits, k = 8)) \n",
    "\n",
    "    def __init__(self, aggregator, reading):\n",
    "        self.key_gen()\n",
    "        self.name = ''.join(random.choices(string.ascii_uppercase + string.digits, k = 8)) \n",
    "        self.aggregator = aggregator\n",
    "        self.reading = reading\n",
    "        Customer.smartmeter_reading_sum += self.reading\n",
    "        print(\"Smartmeter reading for user {} : {}\".format(self.name, self.reading))\n",
    "        aggregator.set_public_key(self.name, self.public_key)\n",
    "\n",
    "\n",
    "    # Generate Paillier key pair\n",
    "    def key_gen(self):\n",
    "        self.public_key, self.private_key = paillier.generate_paillier_keypair()\n",
    "\n",
    "\n",
    "    # Generate a mock meter reading.\n",
    "    def get_meter_reading(self):\n",
    "        Customer.smartmeter_reading_sum += self.reading\n",
    "        print(\"Smartmeter reading for user {} : {}\".format(self.name, self.reading))\n",
    "        return self.reading\n",
    "\n",
    "\n",
    "    # Obtain a meter reading and split into $numer_of_splits shares\n",
    "    def split_meter_reading(self, number_of_splits):\n",
    "        self.reading_shares = (np.random.dirichlet( np.ones(number_of_splits), size=1) * self.reading)[0]\n",
    "        return self.reading_shares\n",
    "\n",
    "\n",
    "    # Encrypt each share of own reading with own public key\n",
    "    def encrypt_shares(self, public_keys = []):\n",
    "        if not public_keys:\n",
    "            public_keys = self.aggregator.get_public_keys()\n",
    "            del public_keys[self.name]\n",
    "\n",
    "        ctxt_arr = {}\n",
    "        self.split_meter_reading(len(public_keys) +1)\n",
    "        \n",
    "        # Witheld last share and do not encrypt with own key.\n",
    "        index = 0\n",
    "        for i in public_keys:\n",
    "            if i not in ctxt_arr:\n",
    "                ctxt_arr[i] = list()\n",
    "            # UUID for pubkey reference, ctxt\n",
    "            ctxt_arr[i] = public_keys.get(i).encrypt(self.reading_shares[index])\n",
    "            index += 1\n",
    "        self.retained_share = self.reading_shares[-1]\n",
    "        return ctxt_arr\n",
    "\n",
    "\n",
    "    # Send encrypted shares to Aggregator\n",
    "    def send_enc_shares(self, input):\n",
    "        self.aggregator.aggregation_input.append(input)\n",
    "\n"
   ]
  },
  {
   "cell_type": "code",
   "execution_count": null,
   "metadata": {},
   "outputs": [],
   "source": [
    "main()"
   ]
  },
  {
   "cell_type": "markdown",
   "metadata": {},
   "source": [
    " "
   ]
  },
  {
   "cell_type": "markdown",
   "metadata": {},
   "source": [
    " "
   ]
  },
  {
   "cell_type": "markdown",
   "metadata": {},
   "source": [
    "## SCRT Network"
   ]
  },
  {
   "cell_type": "markdown",
   "metadata": {},
   "source": [
    "If you want to run the secret smart contracts tutorial, you can follow the instructions at https://github.com/enigmampc/secret-contracts-guide"
   ]
  }
 ],
 "metadata": {
  "kernelspec": {
   "display_name": "Python 3",
   "language": "python",
   "name": "python3"
  },
  "language_info": {
   "codemirror_mode": {
    "name": "ipython",
    "version": 3
   },
   "file_extension": ".py",
   "mimetype": "text/x-python",
   "name": "python",
   "nbconvert_exporter": "python",
   "pygments_lexer": "ipython3",
   "version": "3.9.1"
  }
 },
 "nbformat": 4,
 "nbformat_minor": 4
}
